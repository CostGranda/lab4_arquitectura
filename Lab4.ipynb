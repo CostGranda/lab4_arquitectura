{
 "cells": [
  {
   "cell_type": "code",
   "execution_count": 92,
   "metadata": {},
   "outputs": [
    {
     "ename": "ModuleNotFoundError",
     "evalue": "No module named 'RPi'",
     "output_type": "error",
     "traceback": [
      "\u001b[0;31m---------------------------------------------------------------------------\u001b[0m",
      "\u001b[0;31mModuleNotFoundError\u001b[0m                       Traceback (most recent call last)",
      "\u001b[0;32m<ipython-input-92-def617703653>\u001b[0m in \u001b[0;36m<module>\u001b[0;34m()\u001b[0m\n\u001b[1;32m      1\u001b[0m \u001b[0;32mimport\u001b[0m \u001b[0mmatplotlib\u001b[0m\u001b[0;34m.\u001b[0m\u001b[0mpyplot\u001b[0m \u001b[0;32mas\u001b[0m \u001b[0mplt\u001b[0m\u001b[0;34m\u001b[0m\u001b[0m\n\u001b[1;32m      2\u001b[0m \u001b[0;32mimport\u001b[0m \u001b[0mnumpy\u001b[0m \u001b[0;32mas\u001b[0m \u001b[0mnp\u001b[0m\u001b[0;34m\u001b[0m\u001b[0m\n\u001b[0;32m----> 3\u001b[0;31m \u001b[0;32mimport\u001b[0m \u001b[0mRPi\u001b[0m\u001b[0;34m.\u001b[0m\u001b[0mGPIO\u001b[0m \u001b[0;32mas\u001b[0m \u001b[0mGPIO\u001b[0m\u001b[0;34m\u001b[0m\u001b[0m\n\u001b[0m\u001b[1;32m      4\u001b[0m \u001b[0mnp\u001b[0m\u001b[0;34m.\u001b[0m\u001b[0mseterr\u001b[0m\u001b[0;34m(\u001b[0m\u001b[0mdivide\u001b[0m\u001b[0;34m=\u001b[0m\u001b[0;34m'ignore'\u001b[0m\u001b[0;34m,\u001b[0m \u001b[0minvalid\u001b[0m\u001b[0;34m=\u001b[0m\u001b[0;34m'ignore'\u001b[0m\u001b[0;34m)\u001b[0m\u001b[0;34m\u001b[0m\u001b[0m\n",
      "\u001b[0;31mModuleNotFoundError\u001b[0m: No module named 'RPi'"
     ]
    }
   ],
   "source": [
    "import matplotlib.pyplot as plt\n",
    "import numpy as np\n",
    "import RPi.GPIO as GPIO\n",
    "from time import sleep\n",
    "np.seterr(divide='ignore', invalid='ignore')"
   ]
  },
  {
   "cell_type": "code",
   "execution_count": 93,
   "metadata": {},
   "outputs": [],
   "source": [
    "LED1 = 13\n",
    "LED2 = 19\n",
    "LED3 = 26\n",
    "LED4 = 20\n",
    "\n",
    "def setup_leds():\n",
    "    GPIO.setmode(GPIO.BCM)\n",
    "    GPIO.setup(LED1, GPIO.OUT)\n",
    "    GPIO.setup(LED2, GPIO.OUT)\n",
    "    GPIO.setup(LED3, GPIO.OUT)\n",
    "    GPIO.setup(LED4, GPIO.OUT)\n",
    "\n",
    "def leds_off():\n",
    "    GPIO.output(LED1, GPIO.LOW)\n",
    "    GPIO.output(LED2, GPIO.LOW)\n",
    "    GPIO.output(LED3, GPIO.LOW)\n",
    "    GPIO.output(LED4, GPIO.LOW)\n",
    "    \n",
    "def led_on(led):\n",
    "    GPIO.output(led, GPIO.HIGH)\n",
    "    print(\"Led ON\")\n",
    "    sleep(3)\n",
    "    print(\"Led OFF\")\n",
    "    GPIO.output(led, GPIO.LOW)\n",
    "    GPIO.cleanup()\n"
   ]
  },
  {
   "cell_type": "code",
   "execution_count": 3,
   "metadata": {},
   "outputs": [],
   "source": [
    "def valores(a=-0.5, b=0.5):\n",
    "    x = np.arange(a, b, 0.02)\n",
    "    y = (np.tanh(3*x) - np.cos(3*x)/np.sin(3*x)) / (((2*x)/5) - 3*x) \n",
    "    return {'x': x, 'y': y, 'puntos': b - a + 1}"
   ]
  },
  {
   "cell_type": "code",
   "execution_count": 66,
   "metadata": {
    "scrolled": true
   },
   "outputs": [
    {
     "name": "stdout",
     "output_type": "stream",
     "text": [
      "Cuadrante 3\n"
     ]
    }
   ],
   "source": [
    "def cuadrantes(a, b, num, cant):\n",
    "    if(num<=a+cant):\n",
    "        leds_off()\n",
    "        print(\"Cuadrante 1\")\n",
    "        led_on(LED1, \"on\")\n",
    "    elif(num<=a+cant*2):\n",
    "        leds_off()\n",
    "        print(\"Cuadrante 2\")\n",
    "        led_on(LED2)\n",
    "    elif(num<=a+cant*3):\n",
    "        leds_off()\n",
    "        print(\"Cuadrante 3\")\n",
    "        led_on(LED3)\n",
    "    elif(num<=b):\n",
    "        leds_off()\n",
    "        print(\"Cuadrante 4\")\n",
    "        led_on(LED4)\n"
   ]
  },
  {
   "cell_type": "code",
   "execution_count": 118,
   "metadata": {},
   "outputs": [
    {
     "name": "stdout",
     "output_type": "stream",
     "text": [
      "5.0\n",
      "Cuadrante 3\n"
     ]
    }
   ],
   "source": [
    "a = 10\n",
    "b = 30\n",
    "cant = (b-a) / 4\n",
    "print(cant)\n",
    "num = 25\n",
    "if(num<=a+cant):\n",
    "    print(\"Cuadrante 1\")\n",
    "elif(num<=a+cant*2):\n",
    "    print(\"Cuadrante 2\")\n",
    "elif(num<=a+cant*3):\n",
    "    print(\"Cuadrante 3\")\n",
    "elif(num<=b):\n",
    "    print(\"Cuadrante 4\")\n"
   ]
  },
  {
   "cell_type": "code",
   "execution_count": 106,
   "metadata": {},
   "outputs": [
    {
     "ename": "SyntaxError",
     "evalue": "invalid syntax (<ipython-input-106-2aa48a781d65>, line 12)",
     "output_type": "error",
     "traceback": [
      "\u001b[0;36m  File \u001b[0;32m\"<ipython-input-106-2aa48a781d65>\"\u001b[0;36m, line \u001b[0;32m12\u001b[0m\n\u001b[0;31m    plt.annotate(\"({},{:.1f})\".format(x,y), xy=(x, y), xytext=(a+1, b+1),size=12,color='r' arrowprops=dict(arrowstyle='->'))\u001b[0m\n\u001b[0m                                                                                                    ^\u001b[0m\n\u001b[0;31mSyntaxError\u001b[0m\u001b[0;31m:\u001b[0m invalid syntax\n"
     ]
    }
   ],
   "source": [
    "def graficar(a=1,b=1,x=None):\n",
    "    rangos = valores(a,b)\n",
    "    delta = (b - a) / 4\n",
    "    plt.plot(rangos['x'], rangos['y'])\n",
    "    plt.xlabel(\"Eje X\")\n",
    "    plt.ylabel(\"Eje Y\")\n",
    "    for i in range(1,4):\n",
    "        plt.axvline(x=a+delta*i, linestyle='--', color='g')\n",
    "    plt.title(\"Grafica lab 4\")\n",
    "    if x is not None:\n",
    "        y = (np.tanh(3*x) - np.cos(3*x)/np.sin(3*x)) / (((2*x)/5) - 3*x)\n",
    "        plt.annotate(\"({},{:.1f})\".format(x,y), xy=(x, y), xytext=(a+1, b+1),size=12, arrowprops=dict(arrowstyle='->'))\n",
    "    plt.text(b+1,a-1, r'$f(x)=\\frac{tanh(3x) - cot(3x)} {\\frac{2x}{5}-{3x}} $',\n",
    "             color='g', fontsize=20)"
   ]
  },
  {
   "cell_type": "code",
   "execution_count": 107,
   "metadata": {
    "scrolled": false
   },
   "outputs": [
    {
     "name": "stdout",
     "output_type": "stream",
     "text": [
      "\n",
      "1) Acotar por X\n",
      "2) Acotar por Y\n",
      "3) Evaluar\n",
      "4) Salir\n",
      "3\n",
      "Ingrese el rango [a,b]: [10,20]\n",
      "<class 'int'>\n",
      "Ingrese el valor a evaluar: 15\n"
     ]
    },
    {
     "data": {
      "image/png": "[encoded data removed]",
      "text/plain": [
       "<Figure size 432x288 with 1 Axes>"
      ]
     },
     "metadata": {},
     "output_type": "display_data"
    }
   ],
   "source": [
    "opc = int(input(\"\"\"\n",
    "1) Acotar por X\n",
    "2) Acotar por Y\n",
    "3) Evaluar\n",
    "4) Salir\n",
    "\"\"\"))\n",
    "rangos = x =None\n",
    "if(opc == 1):\n",
    "    x = eval(input(\"Ingrese el rango [a,b]: \"))\n",
    "    #rangos = valores(x[0], x[1])\n",
    "    graficar(x[0], x[1])\n",
    "elif(opc == 2):\n",
    "    pass\n",
    "elif(opc == 3):\n",
    "    x = eval(input(\"Ingrese el rango [a,b]: \"))\n",
    "    print(type(x[0]))\n",
    "    rangos = valores(x[0], x[1])\n",
    "    punto = eval(input(\"Ingrese el valor a evaluar: \"))\n",
    "    graficar(x[0], x[1], punto)\n",
    "    pass\n",
    "elif(opc == 4):\n",
    "    exit()"
   ]
  },
  {
   "cell_type": "code",
   "execution_count": null,
   "metadata": {},
   "outputs": [],
   "source": []
  }
 ],
 "metadata": {
  "kernelspec": {
   "display_name": "Python 3",
   "language": "python",
   "name": "python3"
  },
  "language_info": {
   "codemirror_mode": {
    "name": "ipython",
    "version": 3
   },
   "file_extension": ".py",
   "mimetype": "text/x-python",
   "name": "python",
   "nbconvert_exporter": "python",
   "pygments_lexer": "ipython3",
   "version": "3.6.5"
  }
 },
 "nbformat": 4,
 "nbformat_minor": 2
}
